{
  "nbformat": 4,
  "nbformat_minor": 0,
  "metadata": {
    "colab": {
      "provenance": [],
      "gpuType": "T4",
      "authorship_tag": "ABX9TyPiezfdq7rv9iLpJIoqmpk/",
      "include_colab_link": true
    },
    "kernelspec": {
      "name": "python3",
      "display_name": "Python 3"
    },
    "language_info": {
      "name": "python"
    },
    "accelerator": "GPU"
  },
  "cells": [
    {
      "cell_type": "markdown",
      "metadata": {
        "id": "view-in-github",
        "colab_type": "text"
      },
      "source": [
        "<a href=\"https://colab.research.google.com/github/koeyhnim/banghak/blob/chap-7/my_notebook_chap7.ipynb\" target=\"_parent\"><img src=\"https://colab.research.google.com/assets/colab-badge.svg\" alt=\"Open In Colab\"/></a>"
      ]
    },
    {
      "cell_type": "code",
      "execution_count": null,
      "metadata": {
        "colab": {
          "base_uri": "https://localhost:8080/"
        },
        "id": "g-E5erS697ij",
        "outputId": "1d523f53-15b7-4ea1-b22d-d456e29ab0c6"
      },
      "outputs": [
        {
          "output_type": "stream",
          "name": "stderr",
          "text": [
            "100%|██████████| 26.4M/26.4M [00:01<00:00, 14.2MB/s]\n",
            "100%|██████████| 29.5k/29.5k [00:00<00:00, 208kB/s]\n",
            "100%|██████████| 4.42M/4.42M [00:01<00:00, 3.87MB/s]\n",
            "100%|██████████| 5.15k/5.15k [00:00<00:00, 9.57MB/s]\n"
          ]
        }
      ],
      "source": [
        "from torchvision.datasets import FashionMNIST\n",
        "import torchvision.transforms as transforms\n",
        "from torch.utils.data import DataLoader\n",
        "\n",
        "affine = transforms.RandomAffine((-30, 30),  # 회전\n",
        "                                 scale=(0.8, 1.2),  # 확대와 축소\n",
        "                                 translate=(0.5, 0.5))  # 이동\n",
        "flip = transforms.RandomHorizontalFlip(p=0.5)  # 좌우반전\n",
        "invert = transforms.RandomInvert(p=0.5)  # 색의 반전\n",
        "to_tensor = transforms.ToTensor()\n",
        "normalize = transforms.Normalize((0.0), (1.0))  # 평균값을 0, 표준편차를 1로\n",
        "erase = transforms.RandomErasing(p=0.5)  # 일부를 소거\n",
        "\n",
        "transform_train = transforms.Compose([affine, flip, invert, to_tensor, normalize, erase])\n",
        "transform_test = transforms.Compose([to_tensor, normalize])\n",
        "fashion_train = FashionMNIST(\"./data\", train=True, download=True, transform=transform_train)\n",
        "fashion_test = FashionMNIST(\"./data\", train=False, download=True, transform=transform_test)\n",
        "\n",
        "# DataLoader의 설정\n",
        "batch_size = 64\n",
        "train_loader = DataLoader(fashion_train, batch_size=batch_size, shuffle=True)\n",
        "test_loader = DataLoader(fashion_test, batch_size=batch_size, shuffle=False)"
      ]
    },
    {
      "cell_type": "code",
      "source": [
        "import torch.nn as nn\n",
        "\n",
        "class Net(nn.Module):\n",
        "    def __init__(self):\n",
        "        super().__init__()\n",
        "        self.conv1 = nn.Conv2d(1, 8, 3)\n",
        "        self.conv２ = nn.Conv2d(8, 16, 3)\n",
        "        self.bn1 = nn.BatchNorm2d(16)\n",
        "        self.conv3 = nn.Conv2d(16, 32, 3)\n",
        "        self.conv4 = nn.Conv2d(32, 64, 3)\n",
        "        self.bn2 = nn.BatchNorm2d(64)\n",
        "\n",
        "        self.pool = nn.MaxPool2d(2, 2)\n",
        "        self.relu = nn.ReLU()\n",
        "\n",
        "        self.fc1 = nn.Linear(64*4*4, 256)\n",
        "        self.dropout = nn.Dropout(p=0.5)\n",
        "        self.fc2 = nn.Linear(256, 10)\n",
        "\n",
        "    def forward(self, x):\n",
        "        x = self.relu(self.conv1(x))\n",
        "        x = self.relu(self.bn1(self.conv2(x)))\n",
        "        x = self.pool(x)\n",
        "        x = self.relu(self.conv3(x))\n",
        "        x = self.relu(self.bn2(self.conv4(x)))\n",
        "        x = self.pool(x)\n",
        "        x = x.view(-1, 64*4*4)\n",
        "        x = self.relu(self.fc1(x))\n",
        "        x = self.dropout(x)\n",
        "        x = self.fc2(x)\n",
        "        return x\n",
        "\n",
        "net = Net()\n",
        "net.cuda()  # GPU 대응\n",
        "print(net)"
      ],
      "metadata": {
        "colab": {
          "base_uri": "https://localhost:8080/"
        },
        "id": "adTXy8Cl-js3",
        "outputId": "6e105133-a0e4-4bfc-a42d-6c6dacc6e004"
      },
      "execution_count": null,
      "outputs": [
        {
          "output_type": "stream",
          "name": "stdout",
          "text": [
            "Net(\n",
            "  (conv1): Conv2d(1, 8, kernel_size=(3, 3), stride=(1, 1))\n",
            "  (conv2): Conv2d(8, 16, kernel_size=(3, 3), stride=(1, 1))\n",
            "  (bn1): BatchNorm2d(16, eps=1e-05, momentum=0.1, affine=True, track_running_stats=True)\n",
            "  (conv3): Conv2d(16, 32, kernel_size=(3, 3), stride=(1, 1))\n",
            "  (conv4): Conv2d(32, 64, kernel_size=(3, 3), stride=(1, 1))\n",
            "  (bn2): BatchNorm2d(64, eps=1e-05, momentum=0.1, affine=True, track_running_stats=True)\n",
            "  (pool): MaxPool2d(kernel_size=2, stride=2, padding=0, dilation=1, ceil_mode=False)\n",
            "  (relu): ReLU()\n",
            "  (fc1): Linear(in_features=1024, out_features=256, bias=True)\n",
            "  (dropout): Dropout(p=0.5, inplace=False)\n",
            "  (fc2): Linear(in_features=256, out_features=10, bias=True)\n",
            ")\n"
          ]
        }
      ]
    },
    {
      "cell_type": "code",
      "source": [
        "from torch import optim\n",
        "\n",
        "# 교차 엔트로피 오차 함수\n",
        "loss_fnc = nn.CrossEntropyLoss()\n",
        "\n",
        "# 최적화 알고리즘\n",
        "optimizer = optim.Adam(net.parameters())\n",
        "\n",
        "# 손실의 로그\n",
        "record_loss_train = []\n",
        "record_loss_test = []\n",
        "\n",
        "# 학습\n",
        "for i in range(30):  # 30 에포크 학습\n",
        "    net.train()  # 훈련 모드\n",
        "    loss_train = 0\n",
        "    for j, (x, t) in enumerate(train_loader):  # 미니배치 (x, t)를 꺼낸다\n",
        "        x, t = x.cuda(), t.cuda()  # GPU 대응\n",
        "        y = net(x)\n",
        "        loss = loss_fnc(y, t)\n",
        "        loss_train += loss.item()\n",
        "        optimizer.zero_grad()\n",
        "        loss.backward()\n",
        "        optimizer.step()\n",
        "    loss_train /= j+1\n",
        "    record_loss_train.append(loss_train)\n",
        "\n",
        "    net.eval()  # 평가 모드\n",
        "    loss_test = 0\n",
        "    for j, (x, t) in enumerate(test_loader):  # 미니배치 (x, t)를 꺼낸다\n",
        "        x, t = x.cuda(), t.cuda()  # GPU 대응\n",
        "        y = net(x)\n",
        "        loss = loss_fnc(y, t)\n",
        "        loss_test += loss.item()\n",
        "    loss_test /= j+1\n",
        "    record_loss_test.append(loss_test)\n",
        "\n",
        "    if i%1 == 0:\n",
        "        print(\"Epoch:\", i, \"Loss_Train:\", loss_train, \"Loss_Test:\", loss_test)"
      ],
      "metadata": {
        "colab": {
          "base_uri": "https://localhost:8080/"
        },
        "id": "LCwm0fFx-quD",
        "outputId": "e046dc64-2a47-4cce-8e4a-aa5f0a6bbd6d"
      },
      "execution_count": null,
      "outputs": [
        {
          "output_type": "stream",
          "name": "stdout",
          "text": [
            "Epoch: 0 Loss_Train: 1.8896823831712768 Loss_Test: 1.306669423534612\n",
            "Epoch: 1 Loss_Train: 1.6171982301069474 Loss_Test: 1.2680028532720675\n",
            "Epoch: 2 Loss_Train: 1.5081194115600098 Loss_Test: 1.0382113828780546\n",
            "Epoch: 3 Loss_Train: 1.4337816903077718 Loss_Test: 1.0082826356219639\n",
            "Epoch: 4 Loss_Train: 1.379979063071676 Loss_Test: 1.1074553139650138\n",
            "Epoch: 5 Loss_Train: 1.3321798794559325 Loss_Test: 0.8426963235162626\n",
            "Epoch: 6 Loss_Train: 1.3050127641986937 Loss_Test: 0.8160850288002355\n",
            "Epoch: 7 Loss_Train: 1.2557860276083956 Loss_Test: 0.9217633635375151\n",
            "Epoch: 8 Loss_Train: 1.2330336521175116 Loss_Test: 0.8329793575463021\n",
            "Epoch: 9 Loss_Train: 1.2094345906141724 Loss_Test: 0.766380714383095\n",
            "Epoch: 10 Loss_Train: 1.1851115302363437 Loss_Test: 0.7770314136887811\n",
            "Epoch: 11 Loss_Train: 1.1700698962089604 Loss_Test: 0.7377198602363562\n",
            "Epoch: 12 Loss_Train: 1.156320989195472 Loss_Test: 0.750507459329192\n",
            "Epoch: 13 Loss_Train: 1.134236245966161 Loss_Test: 0.6679063116668895\n",
            "Epoch: 14 Loss_Train: 1.1282210473948195 Loss_Test: 0.6820411873850852\n",
            "Epoch: 15 Loss_Train: 1.114489212092052 Loss_Test: 0.6574753868352076\n",
            "Epoch: 16 Loss_Train: 1.099828288499226 Loss_Test: 0.6213111786326025\n",
            "Epoch: 17 Loss_Train: 1.0922974731240953 Loss_Test: 0.6369776604281869\n",
            "Epoch: 18 Loss_Train: 1.0851444570240436 Loss_Test: 0.6247949753976931\n",
            "Epoch: 19 Loss_Train: 1.0724908503642214 Loss_Test: 0.6087148208527049\n",
            "Epoch: 20 Loss_Train: 1.0644174366871686 Loss_Test: 0.6446071483527019\n",
            "Epoch: 21 Loss_Train: 1.0537141621239912 Loss_Test: 0.6027104518595775\n",
            "Epoch: 22 Loss_Train: 1.0476948254779457 Loss_Test: 0.5765807393250192\n",
            "Epoch: 23 Loss_Train: 1.0417080732550956 Loss_Test: 0.604529028485535\n",
            "Epoch: 24 Loss_Train: 1.0342987429485646 Loss_Test: 0.6188306939450039\n",
            "Epoch: 25 Loss_Train: 1.0254805050552018 Loss_Test: 0.5964793828642292\n",
            "Epoch: 26 Loss_Train: 1.024726902498111 Loss_Test: 0.611499530304769\n",
            "Epoch: 27 Loss_Train: 1.0175937797977472 Loss_Test: 0.574237407392757\n",
            "Epoch: 28 Loss_Train: 1.0107964952108957 Loss_Test: 0.5865025357076317\n",
            "Epoch: 29 Loss_Train: 1.0055206462518493 Loss_Test: 0.5566714878674526\n"
          ]
        }
      ]
    },
    {
      "cell_type": "code",
      "source": [
        "import matplotlib.pyplot as plt\n",
        "\n",
        "plt.plot(range(len(record_loss_train)), record_loss_train, label=\"Train\")\n",
        "plt.plot(range(len(record_loss_test)), record_loss_test, label=\"Test\")\n",
        "plt.legend()\n",
        "\n",
        "plt.xlabel(\"Epochs\")\n",
        "plt.ylabel(\"Error\")\n",
        "plt.show()"
      ],
      "metadata": {
        "colab": {
          "base_uri": "https://localhost:8080/",
          "height": 449
        },
        "id": "odTw1E4k-vax",
        "outputId": "5f45138a-4c1f-4e9d-adf1-dec27d52a8be"
      },
      "execution_count": null,
      "outputs": [
        {
          "output_type": "display_data",
          "data": {
            "text/plain": [
              "<Figure size 640x480 with 1 Axes>"
            ],
            "image/png": "[encoded data removed]"
          },
          "metadata": {}
        }
      ]
    },
    {
      "cell_type": "code",
      "source": [
        "correct = 0\n",
        "total = 0\n",
        "net.eval()  # 평가 모드\n",
        "for i, (x, t) in enumerate(test_loader):\n",
        "    x, t = x.cuda(), t.cuda()  # GPU 대응\n",
        "    y = net(x)\n",
        "    correct += (y.argmax(1) == t).sum().item()\n",
        "    total += len(x)\n",
        "print(\"정답률:\", str(correct/total*100) + \"%\")"
      ],
      "metadata": {
        "id": "cwGpKSTmCqj3",
        "outputId": "9ab60c7d-cc13-44b1-9cc7-5787260ccc25",
        "colab": {
          "base_uri": "https://localhost:8080/"
        }
      },
      "execution_count": null,
      "outputs": [
        {
          "output_type": "stream",
          "name": "stdout",
          "text": [
            "정답률: 79.78%\n"
          ]
        }
      ]
    },
    {
      "cell_type": "code",
      "source": [
        "import torch\n",
        "\n",
        "# state_dict()의 표시\n",
        "for key in net.state_dict():\n",
        "    print(key, \": \", net.state_dict()[key].size())\n",
        "\n",
        "# 저장\n",
        "torch.save(net.state_dict(), \"model_cnn.pth\")"
      ],
      "metadata": {
        "id": "FGFku4mfCsJA",
        "outputId": "72cbaf1b-51dd-4c65-f15a-541c0c2de493",
        "colab": {
          "base_uri": "https://localhost:8080/"
        }
      },
      "execution_count": null,
      "outputs": [
        {
          "output_type": "stream",
          "name": "stdout",
          "text": [
            "conv1.weight :  torch.Size([8, 1, 3, 3])\n",
            "conv1.bias :  torch.Size([8])\n",
            "conv2.weight :  torch.Size([16, 8, 3, 3])\n",
            "conv2.bias :  torch.Size([16])\n",
            "bn1.weight :  torch.Size([16])\n",
            "bn1.bias :  torch.Size([16])\n",
            "bn1.running_mean :  torch.Size([16])\n",
            "bn1.running_var :  torch.Size([16])\n",
            "bn1.num_batches_tracked :  torch.Size([])\n",
            "conv3.weight :  torch.Size([32, 16, 3, 3])\n",
            "conv3.bias :  torch.Size([32])\n",
            "conv4.weight :  torch.Size([64, 32, 3, 3])\n",
            "conv4.bias :  torch.Size([64])\n",
            "bn2.weight :  torch.Size([64])\n",
            "bn2.bias :  torch.Size([64])\n",
            "bn2.running_mean :  torch.Size([64])\n",
            "bn2.running_var :  torch.Size([64])\n",
            "bn2.num_batches_tracked :  torch.Size([])\n",
            "fc1.weight :  torch.Size([256, 1024])\n",
            "fc1.bias :  torch.Size([256])\n",
            "fc2.weight :  torch.Size([10, 256])\n",
            "fc2.bias :  torch.Size([10])\n"
          ]
        }
      ]
    },
    {
      "cell_type": "code",
      "source": [],
      "metadata": {
        "id": "Uws5390WCtMO"
      },
      "execution_count": null,
      "outputs": []
    }
  ]
}