{
  "nbformat": 4,
  "nbformat_minor": 0,
  "metadata": {
    "colab": {
      "provenance": [],
      "gpuType": "T4",
      "authorship_tag": "ABX9TyOh3UHeMDucwSW8/DVGQrke",
      "include_colab_link": true
    },
    "kernelspec": {
      "name": "python3",
      "display_name": "Python 3"
    },
    "language_info": {
      "name": "python"
    },
    "accelerator": "GPU"
  },
  "cells": [
    {
      "cell_type": "markdown",
      "metadata": {
        "id": "view-in-github",
        "colab_type": "text"
      },
      "source": [
        "<a href=\"https://colab.research.google.com/github/koeyhnim/banghak/blob/chap-4/my_notebook_chap4.ipynb\" target=\"_parent\"><img src=\"https://colab.research.google.com/assets/colab-badge.svg\" alt=\"Open In Colab\"/></a>"
      ]
    },
    {
      "cell_type": "code",
      "execution_count": 1,
      "metadata": {
        "colab": {
          "base_uri": "https://localhost:8080/"
        },
        "id": "B9iZO5FBF9Fu",
        "outputId": "54207f9d-c393-408b-fb1b-0d50d08bd3db"
      },
      "outputs": [
        {
          "output_type": "stream",
          "name": "stdout",
          "text": [
            "tensor([[1., 1., 1.],\n",
            "        [1., 1., 1.]], requires_grad=True)\n"
          ]
        }
      ],
      "source": [
        "    import torch\n",
        "\n",
        "x = torch.ones(2, 3, requires_grad=True)\n",
        "print(x)"
      ]
    },
    {
      "cell_type": "code",
      "source": [
        "y = x + 2\n",
        "print(y)\n",
        "print(y.grad_fn)"
      ],
      "metadata": {
        "colab": {
          "base_uri": "https://localhost:8080/"
        },
        "id": "Qj5DUlFWGY_o",
        "outputId": "6ad44b03-d164-4e78-9597-0187d56f0beb"
      },
      "execution_count": 19,
      "outputs": [
        {
          "output_type": "stream",
          "name": "stdout",
          "text": [
            "tensor([[3., 3., 3.],\n",
            "        [3., 3., 3.]], grad_fn=<AddBackward0>)\n",
            "<AddBackward0 object at 0x7af5399ed240>\n"
          ]
        }
      ]
    },
    {
      "cell_type": "code",
      "source": [
        "z = y * 3\n",
        "print(z)\n",
        "\n",
        "out = z.mean()\n",
        "print(out)"
      ],
      "metadata": {
        "colab": {
          "base_uri": "https://localhost:8080/"
        },
        "id": "Nd66HO3JGpax",
        "outputId": "6ead4e7a-2b2d-42a4-c5c3-90fa13e1eee4"
      },
      "execution_count": 20,
      "outputs": [
        {
          "output_type": "stream",
          "name": "stdout",
          "text": [
            "tensor([[9., 9., 9.],\n",
            "        [9., 9., 9.]], grad_fn=<MulBackward0>)\n",
            "tensor(9., grad_fn=<MeanBackward0>)\n"
          ]
        }
      ]
    },
    {
      "cell_type": "code",
      "source": [
        "a = torch.tensor([1.0], requires_grad=True)\n",
        "b = a * 2  # b의 변화량은 a의 2배\n",
        "b.backward()  # 역전파\n",
        "print(a.grad)  # a의 경사(a의 변화에 대한 b의 변화 비율)"
      ],
      "metadata": {
        "colab": {
          "base_uri": "https://localhost:8080/"
        },
        "id": "HqthW9Q1G1GL",
        "outputId": "75549362-56b3-479c-938e-2e8a039f70cd"
      },
      "execution_count": 22,
      "outputs": [
        {
          "output_type": "stream",
          "name": "stdout",
          "text": [
            "tensor([2.])\n"
          ]
        }
      ]
    },
    {
      "cell_type": "code",
      "source": [
        "def calc(a):\n",
        "    b = a*2 + 1\n",
        "    c = b*b\n",
        "    d = c/(c + 2)\n",
        "    e = d.mean()\n",
        "    return e\n",
        "\n",
        "x = [1.0, 2.0, 3.0]\n",
        "x = torch.tensor(x, requires_grad=True)\n",
        "y = calc(x)\n",
        "y.backward()\n",
        "print(x.grad)  # x의 경사(x의 각 값의 변화에 대한 y의 변화 비율)"
      ],
      "metadata": {
        "colab": {
          "base_uri": "https://localhost:8080/"
        },
        "id": "YXmBW96oG3r-",
        "outputId": "df0dfce4-f8fe-471d-ef36-7830effd74cd"
      },
      "execution_count": 23,
      "outputs": [
        {
          "output_type": "stream",
          "name": "stdout",
          "text": [
            "tensor([0.0661, 0.0183, 0.0072])\n"
          ]
        }
      ]
    },
    {
      "cell_type": "code",
      "source": [
        "delta = 0.001  #x의 미소 변화\n",
        "\n",
        "x = [1.0, 2.0, 3.0]\n",
        "x = torch.tensor(x)\n",
        "y = calc(x)\n",
        "\n",
        "x_1 = [1.0+delta, 2.0, 3.0]\n",
        "x_1 = torch.tensor(x_1)\n",
        "y_1 = calc(x_1)\n",
        "\n",
        "x_2 = [1.0, 2.0+delta, 3.0]\n",
        "x_2 = torch.tensor(x_2)\n",
        "y_2 = calc(x_2)\n",
        "\n",
        "x_3 = [1.0, 2.0, 3.0+delta]\n",
        "x_3 = torch.tensor(x_3)\n",
        "y_3 = calc(x_3)\n",
        "\n",
        "# 경사 계산(y의 미소 변화)/(x의 미소 변화)\n",
        "grad_1 = (y_1 - y) / delta\n",
        "grad_2 = (y_2 - y) / delta\n",
        "grad_3 = (y_3 - y) / delta\n",
        "\n",
        "grads = torch.stack((grad_1, grad_2, grad_3))  # Tensor를 결합\n",
        "print(grads)"
      ],
      "metadata": {
        "colab": {
          "base_uri": "https://localhost:8080/"
        },
        "id": "MkEUg2K4HPdO",
        "outputId": "1de04581-07a4-4db3-ce08-939529ce77f5"
      },
      "execution_count": 24,
      "outputs": [
        {
          "output_type": "stream",
          "name": "stdout",
          "text": [
            "tensor([0.0660, 0.0183, 0.0072])\n"
          ]
        }
      ]
    },
    {
      "cell_type": "code",
      "source": [
        "from torchvision.datasets import MNIST\n",
        "from torchvision import transforms\n",
        "\n",
        "img_size = 28  # 이미지의 높이와 폭\n",
        "\n",
        "# 훈련 데이터를 취득\n",
        "mnist_train = MNIST(\"./data\",\n",
        "                    train=True, download=True,\n",
        "                    transform=transforms.ToTensor())  # Tensor로 변환\n",
        "# 테스트 데이터의 취득\n",
        "mnist_test = MNIST(\"./data\",\n",
        "                   train=False, download=True,\n",
        "                   transform=transforms.ToTensor())  # Tensor로 변환\n",
        "\n",
        "print(\"훈련 데이터의 수:\", len(mnist_train), \"테스트 데이터의 수:\", len(mnist_test))"
      ],
      "metadata": {
        "colab": {
          "base_uri": "https://localhost:8080/"
        },
        "id": "Lo1HZTsYHYF8",
        "outputId": "9e97b9b0-7fe4-4073-b4d9-8a0ec1c6a4ce"
      },
      "execution_count": 1,
      "outputs": [
        {
          "output_type": "stream",
          "name": "stderr",
          "text": [
            "100%|██████████| 9.91M/9.91M [00:00<00:00, 17.8MB/s]\n",
            "100%|██████████| 28.9k/28.9k [00:00<00:00, 478kB/s]\n",
            "100%|██████████| 1.65M/1.65M [00:00<00:00, 4.46MB/s]\n",
            "100%|██████████| 4.54k/4.54k [00:00<00:00, 13.1MB/s]"
          ]
        },
        {
          "output_type": "stream",
          "name": "stdout",
          "text": [
            "훈련 데이터의 수: 60000 테스트 데이터의 수: 10000\n"
          ]
        },
        {
          "output_type": "stream",
          "name": "stderr",
          "text": [
            "\n"
          ]
        }
      ]
    },
    {
      "cell_type": "code",
      "source": [
        "from torch.utils.data import DataLoader\n",
        "\n",
        "# DataLoader의 설정\n",
        "batch_size = 256  # 배치 크기\n",
        "train_loader = DataLoader(mnist_train,\n",
        "                          batch_size=batch_size,\n",
        "                          shuffle=True)\n",
        "test_loader = DataLoader(mnist_test,\n",
        "                         batch_size=batch_size,\n",
        "                         shuffle=False)"
      ],
      "metadata": {
        "id": "nLnAuhRXIo6s"
      },
      "execution_count": 2,
      "outputs": []
    },
    {
      "cell_type": "code",
      "source": [
        "import torch.nn as nn\n",
        "\n",
        "class Net(nn.Module):\n",
        "    def __init__(self):\n",
        "        super().__init__()\n",
        "        self.fc1 = nn.Linear(img_size*img_size, 1024)  # 전결합층\n",
        "        self.fc2 = nn.Linear(1024, 512)\n",
        "        self.fc3 = nn.Linear(512, 10)\n",
        "        self.relu = nn.ReLU()  # ReLU 학습하는 파라미터가 없으므로 다시 사용할 수 있다\n",
        "\n",
        "    def forward(self, x):\n",
        "        x = x.view(-1, img_size*img_size) # (배치 크기, 입력의 수): 이미지를 1차원으로 변환\n",
        "        x = self.relu(self.fc1(x))\n",
        "        x = self.relu(self.fc2(x))\n",
        "        x = self.fc3(x)\n",
        "        return x\n",
        "\n",
        "net = Net()\n",
        "net.cuda()  # GPU 대응\n",
        "print(net)"
      ],
      "metadata": {
        "colab": {
          "base_uri": "https://localhost:8080/"
        },
        "id": "uzTsoT2qJAv9",
        "outputId": "211bfbaa-ccfe-4a5d-fbfe-8db149d77638"
      },
      "execution_count": 3,
      "outputs": [
        {
          "output_type": "stream",
          "name": "stdout",
          "text": [
            "Net(\n",
            "  (fc1): Linear(in_features=784, out_features=1024, bias=True)\n",
            "  (fc2): Linear(in_features=1024, out_features=512, bias=True)\n",
            "  (fc3): Linear(in_features=512, out_features=10, bias=True)\n",
            "  (relu): ReLU()\n",
            ")\n"
          ]
        }
      ]
    },
    {
      "cell_type": "code",
      "source": [
        "from torch import optim\n",
        "\n",
        "# 교차 엔트로피 오차 함수\n",
        "loss_fnc = nn.CrossEntropyLoss()\n",
        "\n",
        "# SGD\n",
        "optimizer = optim.SGD(net.parameters(), lr=0.01)\n",
        "\n",
        "# 손실 로그\n",
        "record_loss_train = []\n",
        "record_loss_test = []\n",
        "\n",
        "# 학습\n",
        "for i in range(10):  # 10 에포크 학습\n",
        "    net.train()  # 훈련 모드\n",
        "    loss_train = 0\n",
        "    for j, (x, t) in enumerate(train_loader):  # 미니배치 (x, t)를 꺼낸다\n",
        "        x, t = x.cuda(), t.cuda()  # GPU 대응\n",
        "        y = net(x)\n",
        "        loss = loss_fnc(y, t)\n",
        "        loss_train += loss.item()\n",
        "        optimizer.zero_grad()\n",
        "        loss.backward()\n",
        "        optimizer.step()\n",
        "    loss_train /= j+1\n",
        "    record_loss_train.append(loss_train)\n",
        "\n",
        "    net.eval()  # 평가 모드\n",
        "    loss_test = 0\n",
        "    for j, (x, t) in enumerate(test_loader):  # 미니 배치 (x, t)를 꺼낸다\n",
        "        x, t = x.cuda(), t.cuda()  # GPU 대응\n",
        "        y = net(x)\n",
        "        loss = loss_fnc(y, t)\n",
        "        loss_test += loss.item()\n",
        "    loss_test /= j+1\n",
        "    record_loss_test.append(loss_test)\n",
        "\n",
        "    if i%1 == 0:\n",
        "        print(\"Epoch:\", i, \"Loss_Train:\", loss_train, \"Loss_Test:\", loss_test)"
      ],
      "metadata": {
        "colab": {
          "base_uri": "https://localhost:8080/"
        },
        "id": "Zj7qHdIoJHm7",
        "outputId": "e8f10a46-0bfb-42e4-e191-19ab44d6d9fd"
      },
      "execution_count": 4,
      "outputs": [
        {
          "output_type": "stream",
          "name": "stdout",
          "text": [
            "Epoch: 0 Loss_Train: 2.2241463295956874 Loss_Test: 2.104907613992691\n",
            "Epoch: 1 Loss_Train: 1.8480157121698908 Loss_Test: 1.4735356986522674\n",
            "Epoch: 2 Loss_Train: 1.1408740510331823 Loss_Test: 0.8499669834971428\n",
            "Epoch: 3 Loss_Train: 0.7357665904024814 Loss_Test: 0.6120052590966225\n",
            "Epoch: 4 Loss_Train: 0.5732959167754397 Loss_Test: 0.5024879381060601\n",
            "Epoch: 5 Loss_Train: 0.4919088395352059 Loss_Test: 0.4422836281359196\n",
            "Epoch: 6 Loss_Train: 0.4423240652743806 Loss_Test: 0.40488915555179117\n",
            "Epoch: 7 Loss_Train: 0.40968721306070366 Loss_Test: 0.37784047350287436\n",
            "Epoch: 8 Loss_Train: 0.38638960351335244 Loss_Test: 0.3579764772206545\n",
            "Epoch: 9 Loss_Train: 0.36808814653690825 Loss_Test: 0.3438104228116572\n"
          ]
        }
      ]
    },
    {
      "cell_type": "code",
      "source": [
        "import matplotlib.pyplot as plt\n",
        "\n",
        "plt.plot(range(len(record_loss_train)), record_loss_train, label=\"Train\")\n",
        "plt.plot(range(len(record_loss_test)), record_loss_test, label=\"Test\")\n",
        "plt.legend()\n",
        "\n",
        "plt.xlabel(\"Epochs\")\n",
        "plt.ylabel(\"Error\")\n",
        "plt.show()"
      ],
      "metadata": {
        "colab": {
          "base_uri": "https://localhost:8080/",
          "height": 449
        },
        "id": "o6tQxngvJSdJ",
        "outputId": "46b77949-49ab-44cd-d60b-4bf8cf4a531c"
      },
      "execution_count": 6,
      "outputs": [
        {
          "output_type": "display_data",
          "data": {
            "text/plain": [
              "<Figure size 640x480 with 1 Axes>"
            ],
            "image/png": "[encoded data removed]"
          },
          "metadata": {}
        }
      ]
    },
    {
      "cell_type": "code",
      "source": [
        "correct = 0\n",
        "total = 0\n",
        "net.eval()  # 평가 모드\n",
        "for i, (x, t) in enumerate(test_loader):\n",
        "    x, t = x.cuda(), t.cuda()  # GPU 대응\n",
        "    y = net(x)\n",
        "    correct += (y.argmax(1) == t).sum().item()\n",
        "    total += len(x)\n",
        "print(\"정답률:\", str(correct/total*100) + \"%\")"
      ],
      "metadata": {
        "colab": {
          "base_uri": "https://localhost:8080/"
        },
        "id": "O6-xeGvHJkvT",
        "outputId": "1ff7f384-ef01-43de-d484-ccb8c104b5f1"
      },
      "execution_count": 7,
      "outputs": [
        {
          "output_type": "stream",
          "name": "stdout",
          "text": [
            "정답률: 90.32%\n"
          ]
        }
      ]
    },
    {
      "cell_type": "code",
      "source": [
        "from torchvision.datasets import MNIST\n",
        "from torchvision import transforms\n",
        "\n",
        "img_size = 28  # 이미지의 높이와 폭\n",
        "\n",
        "# 훈련 데이터를 취득\n",
        "mnist_train = MNIST(\"./data\",\n",
        "                    train=True, download=True,\n",
        "                    transform=transforms.ToTensor())  # 텐서로 변환\n",
        "# 테스트 데이터의 취득\n",
        "mnist_test = MNIST(\"./data\",\n",
        "                   train=False, download=True,\n",
        "                   transform=transforms.ToTensor())  # 텐서로 변환\n",
        "\n",
        "print(\"훈련 데이터의 수:\", len(mnist_train), \"테스트 데이터의 수:\", len(mnist_test))"
      ],
      "metadata": {
        "colab": {
          "base_uri": "https://localhost:8080/"
        },
        "id": "Bj3ACsf0JtnC",
        "outputId": "35c16d1c-1b61-4a7a-e0aa-df2163e32b12"
      },
      "execution_count": 8,
      "outputs": [
        {
          "output_type": "stream",
          "name": "stdout",
          "text": [
            "훈련 데이터의 수: 60000 테스트 데이터의 수: 10000\n"
          ]
        }
      ]
    },
    {
      "cell_type": "code",
      "source": [
        "from torch.utils.data import DataLoader\n",
        "\n",
        "batch_size = 256\n",
        "train_loader = DataLoader(mnist_train,\n",
        "                          batch_size=batch_size,\n",
        "                          shuffle=True)\n",
        "test_loader = DataLoader(mnist_test,\n",
        "                         batch_size=batch_size,\n",
        "                         shuffle=False)\n"
      ],
      "metadata": {
        "id": "5kU6PZ7eJ4CJ"
      },
      "execution_count": 19,
      "outputs": []
    },
    {
      "cell_type": "code",
      "source": [
        "import torch.nn as nn\n",
        "\n",
        "class Net(nn.Module):\n",
        "    def __init__(self):\n",
        "        super().__init__()\n",
        "        self.fc1 = nn.Linear(img_size*img_size, 1024)  # 전결합층\n",
        "        self.fc2 = nn.Linear(1024, 512)\n",
        "        self.fc3 = nn.Linear(512, 10)\n",
        "        self.relu = nn.ReLU()  # ReLU 학습하는 파라미터가 없으므로 다시 사용할 수 있다\n",
        "\n",
        "    def forward(self, x):\n",
        "        x = x.view(-1, img_size*img_size)  # (배치 크기, 입력의 수): 이미지를 1차원으로 변환\n",
        "        x = self.relu(self.fc1(x))\n",
        "        x = self.relu(self.fc2(x))\n",
        "        x = self.fc3(x)\n",
        "        return x\n",
        "\n",
        "net = Net()\n",
        "net.cuda()  # GPU 대응\n",
        "print(net)"
      ],
      "metadata": {
        "colab": {
          "base_uri": "https://localhost:8080/"
        },
        "id": "QVlALOV1KsJi",
        "outputId": "053f2c8b-2041-47d1-f05b-6464baad3f65"
      },
      "execution_count": 20,
      "outputs": [
        {
          "output_type": "stream",
          "name": "stdout",
          "text": [
            "Net(\n",
            "  (fc1): Linear(in_features=784, out_features=1024, bias=True)\n",
            "  (fc2): Linear(in_features=1024, out_features=512, bias=True)\n",
            "  (fc3): Linear(in_features=512, out_features=10, bias=True)\n",
            "  (relu): ReLU()\n",
            ")\n"
          ]
        }
      ]
    },
    {
      "cell_type": "code",
      "source": [
        "from torch import optim\n",
        "\n",
        "# 교차 엔트로피 오차 함수\n",
        "loss_fnc = nn.CrossEntropyLoss()\n",
        "\n",
        "# SGD\n",
        "optimizer = optim.SGD(net.parameters(), lr=0.01)\n",
        "\n",
        "# 손실의 로그\n",
        "record_loss_train = []\n",
        "record_loss_test = []\n",
        "\n",
        "# 학습\n",
        "for i in range(5):  # 5 에포크 학습\n",
        "    net.train()  # 훈련 모드\n",
        "    loss_train = 0\n",
        "    for j, (x, t) in enumerate(train_loader):  # 미니배치 (x, t)를 꺼낸다\n",
        "        x, t = x.cuda(), t.cuda()  # GPU 대응\n",
        "        y = net(x)\n",
        "        loss = loss_fnc(y, t)\n",
        "        loss_train += loss.item()\n",
        "        optimizer.zero_grad()\n",
        "        loss.backward()\n",
        "        optimizer.step()\n",
        "    loss_train /= j+1\n",
        "    record_loss_train.append(loss_train)\n",
        "\n",
        "    net.eval()  # 평가 모드\n",
        "    loss_test = 0\n",
        "    for j, (x, t) in enumerate(test_loader):  # 미니배치 (x, t)를 꺼낸다\n",
        "        x, t = x.cuda(), t.cuda()  # GPU 대응\n",
        "        y = net(x)\n",
        "        loss = loss_fnc(y, t)\n",
        "        loss_test += loss.item()\n",
        "    loss_test /= j+1\n",
        "    record_loss_test.append(loss_test)\n",
        "\n",
        "    if i%1 == 0:\n",
        "        print(\"Epoch:\", i, \"Loss_Train:\", loss_train, \"Loss_Test:\", loss_test)"
      ],
      "metadata": {
        "colab": {
          "base_uri": "https://localhost:8080/"
        },
        "id": "NcpeUvGyKwr9",
        "outputId": "e46daf0d-c1e2-4ff9-8f43-c23ac6bd0fe2"
      },
      "execution_count": 23,
      "outputs": [
        {
          "output_type": "stream",
          "name": "stdout",
          "text": [
            "Epoch: 0 Loss_Train: 0.46124754294436027 Loss_Test: 0.4181626051664352\n",
            "Epoch: 1 Loss_Train: 0.42200614315398194 Loss_Test: 0.38582677245140073\n",
            "Epoch: 2 Loss_Train: 0.39470391527135323 Loss_Test: 0.36404911763966086\n",
            "Epoch: 3 Loss_Train: 0.3741325666295721 Loss_Test: 0.3468619169667363\n",
            "Epoch: 4 Loss_Train: 0.35793057274311146 Loss_Test: 0.33302352521568535\n"
          ]
        }
      ]
    },
    {
      "cell_type": "code",
      "source": [
        "import matplotlib.pyplot as plt\n",
        "\n",
        "plt.plot(range(len(record_loss_train)), record_loss_train, label=\"Train\")\n",
        "plt.plot(range(len(record_loss_test)), record_loss_test, label=\"Test\")\n",
        "plt.legend()\n",
        "\n",
        "plt.xlabel(\"Epochs\")\n",
        "plt.ylabel(\"Error\")\n",
        "plt.show()"
      ],
      "metadata": {
        "colab": {
          "base_uri": "https://localhost:8080/",
          "height": 449
        },
        "id": "xJsRMk7wK4ni",
        "outputId": "fa69d66a-013e-4c8c-99ad-f11325c1c08b"
      },
      "execution_count": 27,
      "outputs": [
        {
          "output_type": "display_data",
          "data": {
            "text/plain": [
              "<Figure size 640x480 with 1 Axes>"
            ],
            "image/png": "[encoded data removed]"
          },
          "metadata": {}
        }
      ]
    },
    {
      "cell_type": "code",
      "source": [
        "correct = 0\n",
        "total = 0\n",
        "net.eval()  # 평가 모드\n",
        "for i, (x, t) in enumerate(test_loader):\n",
        "    x, t = x.cuda(), t.cuda()  # GPU 대응\n",
        "    y = net(x)\n",
        "    correct += (y.argmax(1) == t).sum().item()\n",
        "    total += len(x)\n",
        "print(\"정답률:\", str(correct/total*100) + \"%\")"
      ],
      "metadata": {
        "colab": {
          "base_uri": "https://localhost:8080/"
        },
        "id": "EL-q5p9qLD4m",
        "outputId": "4bf25d5c-5597-4349-b811-39968e0b324b"
      },
      "execution_count": 28,
      "outputs": [
        {
          "output_type": "stream",
          "name": "stdout",
          "text": [
            "정답률: 90.49000000000001%\n"
          ]
        }
      ]
    },
    {
      "cell_type": "code",
      "source": [],
      "metadata": {
        "id": "nCUZDIAQLFeJ"
      },
      "execution_count": null,
      "outputs": []
    }
  ]
}