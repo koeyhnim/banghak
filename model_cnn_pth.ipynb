{
  "nbformat": 4,
  "nbformat_minor": 0,
  "metadata": {
    "colab": {
      "provenance": [],
      "mount_file_id": "1U9EnyDvausXp-sApz_O24NxQDro8ZhxS",
      "authorship_tag": "ABX9TyPgAhuCAQ/+nulgzWbz86Kn",
      "include_colab_link": true
    },
    "kernelspec": {
      "name": "python3",
      "display_name": "Python 3"
    },
    "language_info": {
      "name": "python"
    }
  },
  "cells": [
    {
      "cell_type": "markdown",
      "metadata": {
        "id": "view-in-github",
        "colab_type": "text"
      },
      "source": [
        "<a href=\"https://colab.research.google.com/github/koeyhnim/banghak/blob/chap-7/model_cnn_pth.ipynb\" target=\"_parent\"><img src=\"https://colab.research.google.com/assets/colab-badge.svg\" alt=\"Open In Colab\"/></a>"
      ]
    },
    {
      "cell_type": "code",
      "execution_count": 3,
      "metadata": {
        "id": "FxpxH-kwD-SN"
      },
      "outputs": [],
      "source": [
        "!pip install streamlit==1.8.1 --quiet\n",
        "!pip install pyngrok==4.1.1 --quiet\n",
        "!pip install protobuf==3.20.x --quiet"
      ]
    },
    {
      "cell_type": "code",
      "source": [
        "!pip install protobuf==3.20.x --quietimport streamlit as st\n",
        "from pyngrok import ngrok"
      ],
      "metadata": {
        "colab": {
          "base_uri": "https://localhost:8080/"
        },
        "id": "EF4flgzj-XdF",
        "outputId": "fee6c5c1-e6e3-4dbf-ab04-d9c3c830e4cd"
      },
      "execution_count": 4,
      "outputs": [
        {
          "output_type": "stream",
          "name": "stdout",
          "text": [
            "\n",
            "Usage:   \n",
            "  pip3 install [options] <requirement specifier> [package-index-options] ...\n",
            "  pip3 install [options] -r <requirements file> [package-index-options] ...\n",
            "  pip3 install [options] [-e] <vcs project url> ...\n",
            "  pip3 install [options] [-e] <local project path> ...\n",
            "  pip3 install [options] <archive url/path> ...\n",
            "\n",
            "no such option: --quietimport\n"
          ]
        }
      ]
    },
    {
      "cell_type": "code",
      "source": [],
      "metadata": {
        "id": "VaiQcaCs-ikL"
      },
      "execution_count": null,
      "outputs": []
    }
  ]
}